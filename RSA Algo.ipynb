{
 "cells": [
  {
   "cell_type": "code",
   "execution_count": 1,
   "id": "2385c494",
   "metadata": {},
   "outputs": [],
   "source": [
    "import math\n"
   ]
  },
  {
   "cell_type": "code",
   "execution_count": 2,
   "id": "87737e6a",
   "metadata": {},
   "outputs": [],
   "source": [
    "# step 1\n",
    "p = 3\n",
    "q = 7"
   ]
  },
  {
   "cell_type": "code",
   "execution_count": 3,
   "id": "cb762fb4",
   "metadata": {},
   "outputs": [
    {
     "name": "stdout",
     "output_type": "stream",
     "text": [
      "n = 21\n"
     ]
    }
   ],
   "source": [
    "# step 2\n",
    "n = p*q\n",
    "print(\"n =\", n)\n",
    "\n"
   ]
  },
  {
   "cell_type": "code",
   "execution_count": 4,
   "id": "398c6d6a",
   "metadata": {},
   "outputs": [],
   "source": [
    "# step 3\n",
    "phi = (p-1)*(q-1)"
   ]
  },
  {
   "cell_type": "code",
   "execution_count": 5,
   "id": "f2ed8dbc",
   "metadata": {},
   "outputs": [
    {
     "name": "stdout",
     "output_type": "stream",
     "text": [
      "e = 5\n"
     ]
    }
   ],
   "source": [
    "# step 4\n",
    "e = 2\n",
    "while(e<phi):\n",
    "    if (math.gcd(e, phi) == 1):\n",
    "        break\n",
    "    else:\n",
    "        e += 1\n",
    "\n",
    "print(\"e =\", e)"
   ]
  },
  {
   "cell_type": "code",
   "execution_count": 6,
   "id": "407c3356",
   "metadata": {},
   "outputs": [
    {
     "name": "stdout",
     "output_type": "stream",
     "text": [
      "d = 5.0\n",
      "Public key: (5, 21)\n",
      "Private key: (5.0, 21)\n"
     ]
    }
   ],
   "source": [
    "# step 5\n",
    "k = 2\n",
    "d = ((k*phi)+1)/e\n",
    "print(\"d =\", d)\n",
    "print(f'Public key: {e, n}')\n",
    "print(f'Private key: {d, n}')"
   ]
  },
  {
   "cell_type": "code",
   "execution_count": 7,
   "id": "15d9b876",
   "metadata": {},
   "outputs": [
    {
     "name": "stdout",
     "output_type": "stream",
     "text": [
      "Original message:11\n"
     ]
    }
   ],
   "source": [
    "# plain text\n",
    "msg = 11\n",
    "print(f'Original message:{msg}')"
   ]
  },
  {
   "cell_type": "code",
   "execution_count": 8,
   "id": "051bb261",
   "metadata": {},
   "outputs": [
    {
     "name": "stdout",
     "output_type": "stream",
     "text": [
      "Encrypted message: 2.0\n"
     ]
    }
   ],
   "source": [
    "# encryption\n",
    "C = pow(msg, e)\n",
    "C = math.fmod(C, n)\n",
    "print(f'Encrypted message: {C}')"
   ]
  },
  {
   "cell_type": "code",
   "execution_count": 9,
   "id": "1aa9b37f",
   "metadata": {},
   "outputs": [
    {
     "name": "stdout",
     "output_type": "stream",
     "text": [
      "Decrypted message: 11.0\n"
     ]
    }
   ],
   "source": [
    "# decryption\n",
    "M = pow(C, d)\n",
    "M = math.fmod(M, n)\n",
    "\n",
    "print(f'Decrypted message: {M}')"
   ]
  },
  {
   "cell_type": "code",
   "execution_count": 10,
   "id": "34ee15c1",
   "metadata": {},
   "outputs": [
    {
     "data": {
      "text/plain": [
       "'Output:\\n\\nn = 21\\ne = 5\\nd = 5.0\\nPublic key: (5, 21)\\nPrivate key: (5.0, 21)\\nOriginal message:11\\nEncrypted message: 2.0\\nDecrypted message: 11.0\\n\\n\\n'"
      ]
     },
     "execution_count": 10,
     "metadata": {},
     "output_type": "execute_result"
    }
   ],
   "source": [
    "'''Output:\n",
    "\n",
    "n = 21\n",
    "e = 5\n",
    "d = 5.0\n",
    "Public key: (5, 21)\n",
    "Private key: (5.0, 21)\n",
    "Original message:11\n",
    "Encrypted message: 2.0\n",
    "Decrypted message: 11.0\n",
    "\n",
    "\n",
    "'''"
   ]
  },
  {
   "cell_type": "code",
   "execution_count": null,
   "id": "7fab386f",
   "metadata": {},
   "outputs": [],
   "source": []
  }
 ],
 "metadata": {
  "kernelspec": {
   "display_name": "Python 3 (ipykernel)",
   "language": "python",
   "name": "python3"
  },
  "language_info": {
   "codemirror_mode": {
    "name": "ipython",
    "version": 3
   },
   "file_extension": ".py",
   "mimetype": "text/x-python",
   "name": "python",
   "nbconvert_exporter": "python",
   "pygments_lexer": "ipython3",
   "version": "3.10.9"
  }
 },
 "nbformat": 4,
 "nbformat_minor": 5
}
